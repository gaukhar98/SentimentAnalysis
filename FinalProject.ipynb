{
  "nbformat": 4,
  "nbformat_minor": 0,
  "metadata": {
    "colab": {
      "name": "FinalProject.ipynb",
      "provenance": []
    },
    "kernelspec": {
      "name": "python3",
      "display_name": "Python 3"
    },
    "language_info": {
      "name": "python"
    }
  },
  "cells": [
    {
      "cell_type": "markdown",
      "metadata": {
        "id": "lxBCOvhB17Mx"
      },
      "source": [
        "# Sentiment Analysis on Amazon Reviews\n",
        "## Done by: Slamova Gaukhar, Samoilova Malika, Nurbekova Tamiris"
      ]
    },
    {
      "cell_type": "code",
      "metadata": {
        "id": "wUDGyiegY8S3"
      },
      "source": [
        "# Import libraries\n",
        "import numpy as np # linear algebra\n",
        "import pandas as pd # data processing, CSV file I/O (e.g. pd.read_csv)\n",
        "import bz2\n",
        "import sys\n",
        "#Plotting\n",
        "import matplotlib.pyplot as plt\n",
        "import seaborn as sns\n",
        "#NLTK\n",
        "from nltk.corpus import stopwords\n",
        "from nltk.classify import SklearnClassifier\n",
        "from nltk.stem.porter import PorterStemmer\n",
        "#Additional\n",
        "import gc #Garbage collection\n",
        "import re #Regular expressions"
      ],
      "execution_count": 1,
      "outputs": []
    },
    {
      "cell_type": "code",
      "metadata": {
        "id": "ggtGfIQ_ZBlF",
        "colab": {
          "base_uri": "https://localhost:8080/"
        },
        "outputId": "36f2c708-36fd-4935-ca72-4431c30deeb9"
      },
      "source": [
        "from google.colab import drive # 4/1AY0e-g5RuZNwBIL1TxvearhnQDywjbF9kHwrEW5NXjoBvWUQ7DFIE2XiWnc\n",
        "drive.mount('/content/drive')"
      ],
      "execution_count": 2,
      "outputs": [
        {
          "output_type": "stream",
          "text": [
            "Drive already mounted at /content/drive; to attempt to forcibly remount, call drive.mount(\"/content/drive\", force_remount=True).\n"
          ],
          "name": "stdout"
        }
      ]
    },
    {
      "cell_type": "code",
      "metadata": {
        "id": "awa84pd2ZBn0",
        "colab": {
          "base_uri": "https://localhost:8080/"
        },
        "outputId": "b8e0a6c7-0b71-4472-b0b1-bf3dad86a393"
      },
      "source": [
        "%cd drive/My\\ Drive/Colab\\ Notebooks"
      ],
      "execution_count": 3,
      "outputs": [
        {
          "output_type": "stream",
          "text": [
            "/content/drive/My Drive/Colab Notebooks\n"
          ],
          "name": "stdout"
        }
      ]
    },
    {
      "cell_type": "code",
      "metadata": {
        "id": "5bpr-CJpbEYG"
      },
      "source": [
        "#Getting data from the bz2 file \n",
        "train_file = bz2.BZ2File('train.ft.txt.bz2')\n",
        "test_file = bz2.BZ2File('test.ft.txt.bz2')"
      ],
      "execution_count": 4,
      "outputs": []
    },
    {
      "cell_type": "code",
      "metadata": {
        "id": "ioDkAFaBbTkq"
      },
      "source": [
        "train_file_lines = train_file.readlines()\n",
        "test_file_lines = test_file.readlines()"
      ],
      "execution_count": 5,
      "outputs": []
    },
    {
      "cell_type": "code",
      "metadata": {
        "colab": {
          "base_uri": "https://localhost:8080/"
        },
        "id": "SVDq09xubTpA",
        "outputId": "a670d7af-7bdf-472e-813b-c515e4d775e7"
      },
      "source": [
        "print(len(train_file_lines))\n",
        "print(len(test_file_lines))"
      ],
      "execution_count": 6,
      "outputs": [
        {
          "output_type": "stream",
          "text": [
            "3600000\n",
            "400000\n"
          ],
          "name": "stdout"
        }
      ]
    },
    {
      "cell_type": "code",
      "metadata": {
        "id": "vKgGtGemb9ib"
      },
      "source": [
        "del train_file, test_file"
      ],
      "execution_count": 7,
      "outputs": []
    },
    {
      "cell_type": "code",
      "metadata": {
        "id": "aq_QJBflcCc-"
      },
      "source": [
        "#Decode data to utf-8(convert from raw binary strings to strings that can be parsed)\n",
        "train_file_lines = [x.decode('utf-8') for x in train_file_lines]\n",
        "test_file_lines = [x.decode('utf-8') for x in test_file_lines]"
      ],
      "execution_count": 8,
      "outputs": []
    },
    {
      "cell_type": "code",
      "metadata": {
        "id": "ir1YUl5JcCpn"
      },
      "source": [
        "#Extracting labels and texts from the data\n",
        "train_labels = [0 if x.split(' ')[0] == '__label__1' else 1 for x in train_file_lines]\n",
        "train_sentences = [x.split(' ', 1)[1][:-1].lower() for x in train_file_lines]\n",
        "\n",
        "for i in range(len(train_sentences)):\n",
        "    train_sentences[i] = re.sub('\\d','0',train_sentences[i])\n",
        "\n",
        "test_labels = [0 if x.split(' ')[0] == '__label__1' else 1 for x in test_file_lines]\n",
        "test_sentences = [x.split(' ', 1)[1][:-1].lower() for x in test_file_lines]\n",
        "\n",
        "for i in range(len(test_sentences)):\n",
        "    test_sentences[i] = re.sub('\\d','0',test_sentences[i])\n",
        "\n",
        "#Create DataFrame\n",
        "train_data = pd.DataFrame({'reviews':train_sentences})\n",
        "test_data = pd.DataFrame({'reviews':test_sentences})\n",
        "train_data['labels'] = train_labels\n",
        "test_data['labels'] = test_labels"
      ],
      "execution_count": 9,
      "outputs": []
    },
    {
      "cell_type": "code",
      "metadata": {
        "id": "DoD-GhoocC3-"
      },
      "source": [
        "del train_file_lines, test_file_lines"
      ],
      "execution_count": 10,
      "outputs": []
    },
    {
      "cell_type": "code",
      "metadata": {
        "colab": {
          "base_uri": "https://localhost:8080/"
        },
        "id": "MuZtsU0odqWD",
        "outputId": "1e3072bf-d42d-46e4-8460-85b4e0b92429"
      },
      "source": [
        "#Garbage collection\n",
        "gc.collect()"
      ],
      "execution_count": 11,
      "outputs": [
        {
          "output_type": "execute_result",
          "data": {
            "text/plain": [
              "111"
            ]
          },
          "metadata": {
            "tags": []
          },
          "execution_count": 11
        }
      ]
    },
    {
      "cell_type": "code",
      "metadata": {
        "colab": {
          "base_uri": "https://localhost:8080/",
          "height": 419
        },
        "id": "wOlp214Uh_wv",
        "outputId": "c1a3bc87-a51e-41e5-d9e6-fb9b57ed827a"
      },
      "source": [
        "train_data_df = train_data.append(test_data)\n",
        "display(train_data_df)"
      ],
      "execution_count": 12,
      "outputs": [
        {
          "output_type": "display_data",
          "data": {
            "text/html": [
              "<div>\n",
              "<style scoped>\n",
              "    .dataframe tbody tr th:only-of-type {\n",
              "        vertical-align: middle;\n",
              "    }\n",
              "\n",
              "    .dataframe tbody tr th {\n",
              "        vertical-align: top;\n",
              "    }\n",
              "\n",
              "    .dataframe thead th {\n",
              "        text-align: right;\n",
              "    }\n",
              "</style>\n",
              "<table border=\"1\" class=\"dataframe\">\n",
              "  <thead>\n",
              "    <tr style=\"text-align: right;\">\n",
              "      <th></th>\n",
              "      <th>reviews</th>\n",
              "      <th>labels</th>\n",
              "    </tr>\n",
              "  </thead>\n",
              "  <tbody>\n",
              "    <tr>\n",
              "      <th>0</th>\n",
              "      <td>stuning even for the non-gamer: this sound tra...</td>\n",
              "      <td>1</td>\n",
              "    </tr>\n",
              "    <tr>\n",
              "      <th>1</th>\n",
              "      <td>the best soundtrack ever to anything.: i'm rea...</td>\n",
              "      <td>1</td>\n",
              "    </tr>\n",
              "    <tr>\n",
              "      <th>2</th>\n",
              "      <td>amazing!: this soundtrack is my favorite music...</td>\n",
              "      <td>1</td>\n",
              "    </tr>\n",
              "    <tr>\n",
              "      <th>3</th>\n",
              "      <td>excellent soundtrack: i truly like this soundt...</td>\n",
              "      <td>1</td>\n",
              "    </tr>\n",
              "    <tr>\n",
              "      <th>4</th>\n",
              "      <td>remember, pull your jaw off the floor after he...</td>\n",
              "      <td>1</td>\n",
              "    </tr>\n",
              "    <tr>\n",
              "      <th>...</th>\n",
              "      <td>...</td>\n",
              "      <td>...</td>\n",
              "    </tr>\n",
              "    <tr>\n",
              "      <th>399995</th>\n",
              "      <td>unbelievable- in a bad way: we bought this tho...</td>\n",
              "      <td>0</td>\n",
              "    </tr>\n",
              "    <tr>\n",
              "      <th>399996</th>\n",
              "      <td>almost great, until it broke...: my son reciev...</td>\n",
              "      <td>0</td>\n",
              "    </tr>\n",
              "    <tr>\n",
              "      <th>399997</th>\n",
              "      <td>disappointed !!!: i bought this toy for my son...</td>\n",
              "      <td>0</td>\n",
              "    </tr>\n",
              "    <tr>\n",
              "      <th>399998</th>\n",
              "      <td>classic jessica mitford: this is a compilation...</td>\n",
              "      <td>1</td>\n",
              "    </tr>\n",
              "    <tr>\n",
              "      <th>399999</th>\n",
              "      <td>comedy scene, and not heard: this dvd will be ...</td>\n",
              "      <td>0</td>\n",
              "    </tr>\n",
              "  </tbody>\n",
              "</table>\n",
              "<p>4000000 rows × 2 columns</p>\n",
              "</div>"
            ],
            "text/plain": [
              "                                                  reviews  labels\n",
              "0       stuning even for the non-gamer: this sound tra...       1\n",
              "1       the best soundtrack ever to anything.: i'm rea...       1\n",
              "2       amazing!: this soundtrack is my favorite music...       1\n",
              "3       excellent soundtrack: i truly like this soundt...       1\n",
              "4       remember, pull your jaw off the floor after he...       1\n",
              "...                                                   ...     ...\n",
              "399995  unbelievable- in a bad way: we bought this tho...       0\n",
              "399996  almost great, until it broke...: my son reciev...       0\n",
              "399997  disappointed !!!: i bought this toy for my son...       0\n",
              "399998  classic jessica mitford: this is a compilation...       1\n",
              "399999  comedy scene, and not heard: this dvd will be ...       0\n",
              "\n",
              "[4000000 rows x 2 columns]"
            ]
          },
          "metadata": {
            "tags": []
          }
        }
      ]
    },
    {
      "cell_type": "code",
      "metadata": {
        "colab": {
          "base_uri": "https://localhost:8080/",
          "height": 366
        },
        "id": "181A8yKodqjk",
        "outputId": "bbbdc61d-e2fe-40a3-d7c7-f0048ee379b2"
      },
      "source": [
        "sns.countplot(train_data_df['labels'])\n",
        "plt.title('Train Labels distribution')"
      ],
      "execution_count": 13,
      "outputs": [
        {
          "output_type": "stream",
          "text": [
            "/usr/local/lib/python3.7/dist-packages/seaborn/_decorators.py:43: FutureWarning: Pass the following variable as a keyword arg: x. From version 0.12, the only valid positional argument will be `data`, and passing other arguments without an explicit keyword will result in an error or misinterpretation.\n",
            "  FutureWarning\n"
          ],
          "name": "stderr"
        },
        {
          "output_type": "execute_result",
          "data": {
            "text/plain": [
              "Text(0.5, 1.0, 'Train Labels distribution')"
            ]
          },
          "metadata": {
            "tags": []
          },
          "execution_count": 13
        },
        {
          "output_type": "display_data",
          "data": {
            "image/png": "[encoded data removed]",
            "text/plain": [
              "<Figure size 432x288 with 1 Axes>"
            ]
          },
          "metadata": {
            "tags": [],
            "needs_background": "light"
          }
        }
      ]
    },
    {
      "cell_type": "code",
      "metadata": {
        "colab": {
          "base_uri": "https://localhost:8080/",
          "height": 366
        },
        "id": "o1G9vrZmeJTl",
        "outputId": "e3ffff19-5ad1-40c9-9bf2-d087c489aafd"
      },
      "source": [
        "#Word Frequency Distribution in Reviews\n",
        "train_sentences_size = list(map(lambda x: len(x.split()), train_data_df['reviews']))\n",
        "\n",
        "sns.distplot(train_sentences_size)\n",
        "plt.xlabel(\"Number of words\")\n",
        "plt.ylabel(\"Frequency\")\n",
        "plt.title(\"Word Frequency Distribution in Reviews\")"
      ],
      "execution_count": 14,
      "outputs": [
        {
          "output_type": "stream",
          "text": [
            "/usr/local/lib/python3.7/dist-packages/seaborn/distributions.py:2557: FutureWarning: `distplot` is a deprecated function and will be removed in a future version. Please adapt your code to use either `displot` (a figure-level function with similar flexibility) or `histplot` (an axes-level function for histograms).\n",
            "  warnings.warn(msg, FutureWarning)\n"
          ],
          "name": "stderr"
        },
        {
          "output_type": "execute_result",
          "data": {
            "text/plain": [
              "Text(0.5, 1.0, 'Word Frequency Distribution in Reviews')"
            ]
          },
          "metadata": {
            "tags": []
          },
          "execution_count": 14
        },
        {
          "output_type": "display_data",
          "data": {
            "image/png": "[encoded data removed]",
            "text/plain": [
              "<Figure size 432x288 with 1 Axes>"
            ]
          },
          "metadata": {
            "tags": [],
            "needs_background": "light"
          }
        }
      ]
    },
    {
      "cell_type": "code",
      "metadata": {
        "colab": {
          "base_uri": "https://localhost:8080/",
          "height": 204
        },
        "id": "Sn3O-wjNeJX6",
        "outputId": "03ad2235-981b-417c-f1de-fa5f4e19a31d"
      },
      "source": [
        "train_label_len = pd.DataFrame({\"labels\": train_data_df['labels'], \"len\": train_sentences_size})\n",
        "train_label_len.head()"
      ],
      "execution_count": 15,
      "outputs": [
        {
          "output_type": "execute_result",
          "data": {
            "text/html": [
              "<div>\n",
              "<style scoped>\n",
              "    .dataframe tbody tr th:only-of-type {\n",
              "        vertical-align: middle;\n",
              "    }\n",
              "\n",
              "    .dataframe tbody tr th {\n",
              "        vertical-align: top;\n",
              "    }\n",
              "\n",
              "    .dataframe thead th {\n",
              "        text-align: right;\n",
              "    }\n",
              "</style>\n",
              "<table border=\"1\" class=\"dataframe\">\n",
              "  <thead>\n",
              "    <tr style=\"text-align: right;\">\n",
              "      <th></th>\n",
              "      <th>labels</th>\n",
              "      <th>len</th>\n",
              "    </tr>\n",
              "  </thead>\n",
              "  <tbody>\n",
              "    <tr>\n",
              "      <th>0</th>\n",
              "      <td>1</td>\n",
              "      <td>80</td>\n",
              "    </tr>\n",
              "    <tr>\n",
              "      <th>1</th>\n",
              "      <td>1</td>\n",
              "      <td>97</td>\n",
              "    </tr>\n",
              "    <tr>\n",
              "      <th>2</th>\n",
              "      <td>1</td>\n",
              "      <td>129</td>\n",
              "    </tr>\n",
              "    <tr>\n",
              "      <th>3</th>\n",
              "      <td>1</td>\n",
              "      <td>118</td>\n",
              "    </tr>\n",
              "    <tr>\n",
              "      <th>4</th>\n",
              "      <td>1</td>\n",
              "      <td>87</td>\n",
              "    </tr>\n",
              "  </tbody>\n",
              "</table>\n",
              "</div>"
            ],
            "text/plain": [
              "   labels  len\n",
              "0       1   80\n",
              "1       1   97\n",
              "2       1  129\n",
              "3       1  118\n",
              "4       1   87"
            ]
          },
          "metadata": {
            "tags": []
          },
          "execution_count": 15
        }
      ]
    },
    {
      "cell_type": "code",
      "metadata": {
        "colab": {
          "base_uri": "https://localhost:8080/",
          "height": 467
        },
        "id": "wB6HT8ikeJ7k",
        "outputId": "a46647a5-a3a9-4f01-f0a7-a14dc30a1e9a"
      },
      "source": [
        "# calculate average values of sentiments\n",
        "neg_mean_len = train_label_len.groupby('labels')['len'].mean().values[0]\n",
        "pos_mean_len = train_label_len.groupby('labels')['len'].mean().values[1]\n",
        "#0->negative, 1->positive\n",
        "print(f\"Negative mean length: {neg_mean_len:.2f}\")\n",
        "print(f\"Positive mean length: {pos_mean_len:.2f}\")\n",
        "print(f\"Mean Difference: {neg_mean_len-pos_mean_len:.2f}\")\n",
        "sns.catplot(x='labels', y='len', data=train_label_len, kind='box', hue=\"labels\")\n",
        "plt.xlabel(\"labels [0 - negative, 1 - positive]\")\n",
        "plt.ylabel(\"Number of words\")\n",
        "plt.title(\"Review Size Categorization\")"
      ],
      "execution_count": 16,
      "outputs": [
        {
          "output_type": "stream",
          "text": [
            "Negative mean length: 81.49\n",
            "Positive mean length: 75.46\n",
            "Mean Difference: 6.03\n"
          ],
          "name": "stdout"
        },
        {
          "output_type": "execute_result",
          "data": {
            "text/plain": [
              "Text(0.5, 1.0, 'Review Size Categorization')"
            ]
          },
          "metadata": {
            "tags": []
          },
          "execution_count": 16
        },
        {
          "output_type": "display_data",
          "data": {
            "image/png": "[encoded data removed]",
            "text/plain": [
              "<Figure size 360x360 with 1 Axes>"
            ]
          },
          "metadata": {
            "tags": [],
            "needs_background": "light"
          }
        }
      ]
    },
    {
      "cell_type": "code",
      "metadata": {
        "colab": {
          "base_uri": "https://localhost:8080/"
        },
        "id": "TzVuqBnieJ_8",
        "outputId": "29827a0e-9859-47f1-ccd6-3cc0bbd2c49d"
      },
      "source": [
        "del neg_mean_len,pos_mean_len\n",
        "gc.collect()"
      ],
      "execution_count": 17,
      "outputs": [
        {
          "output_type": "execute_result",
          "data": {
            "text/plain": [
              "125"
            ]
          },
          "metadata": {
            "tags": []
          },
          "execution_count": 17
        }
      ]
    },
    {
      "cell_type": "markdown",
      "metadata": {
        "id": "jz5jx1BalfAw"
      },
      "source": [
        "## Data Preprocessing"
      ]
    },
    {
      "cell_type": "code",
      "metadata": {
        "colab": {
          "base_uri": "https://localhost:8080/"
        },
        "id": "8d-1Dspk9Pe1",
        "outputId": "6dd3b340-a29b-44fa-d0f6-5cf467a83f9c"
      },
      "source": [
        "train_data_df['reviews'].head()"
      ],
      "execution_count": 18,
      "outputs": [
        {
          "output_type": "execute_result",
          "data": {
            "text/plain": [
              "0    stuning even for the non-gamer: this sound tra...\n",
              "1    the best soundtrack ever to anything.: i'm rea...\n",
              "2    amazing!: this soundtrack is my favorite music...\n",
              "3    excellent soundtrack: i truly like this soundt...\n",
              "4    remember, pull your jaw off the floor after he...\n",
              "Name: reviews, dtype: object"
            ]
          },
          "metadata": {
            "tags": []
          },
          "execution_count": 18
        }
      ]
    },
    {
      "cell_type": "code",
      "metadata": {
        "id": "EYmQAvZvkZEU"
      },
      "source": [
        "def preprocess_word(word):\n",
        "    word = word.strip('\\'\"?!,.():;')  # Remove punctuation\n",
        "    word = re.sub(r'(.)\\1+', r'\\1\\1', word)# Convert more than 2 letter repetitions to 2 letter funnnnny --> funny\n",
        "    word = re.sub(r'(-|\\')', '', word)# Remove - & '\n",
        "    return word\n",
        "\n",
        "def is_valid_word(word):\n",
        "    return (re.search(r'^[a-zA-Z][a-z0-9A-Z\\._]*$', word) is not None)# Check if word begins with an alphabet\n",
        "\n",
        "def handle_emojis(review):\n",
        "    review = re.sub(r'(:\\s?\\)|:-\\)|\\(\\s?:|\\(-:|:\\'\\))', ' emo_pos ', review)    # Smile -- :), : ), :-), (:, ( :, (-:, :')\n",
        "    review = re.sub(r'(:\\s?D|:-D|x-?D|X-?D)', ' emo_pos ', review) # Laugh -- :D, : D, :-D, xD, x-D, XD, X-D\n",
        "    review = re.sub(r'(<3|:\\*)', ' emo_pos ', review)  # Love -- <3, :*\n",
        "    review = re.sub(r'(;-?\\)|;-?D|\\(-?;)', ' emo_pos ', review) # Wink -- ;-), ;), ;-D, ;D, (;,  (-;\n",
        "    review = re.sub(r'(:\\s?\\(|:-\\(|\\)\\s?:|\\)-:)', ' emo_neg ', review)# Sad -- :-(, : (, :(, ):, )-:\n",
        "    review = re.sub(r'(:,\\(|:\\'\\(|:\"\\()', ' emo_neg ', review)# Cry -- :,(, :'(, :\"(\n",
        "    return review\n",
        "\n",
        "def preprocess_review(review):\n",
        "    processed_review = []\n",
        "    review = review.lower()# Convert to lower case\n",
        "    review = re.sub(r'((www\\.[\\S]+)|(https?://[\\S]+))', ' url ', review)# Replaces url with the word url\n",
        "    review = re.sub(r'@[\\S]+', 'user_mention', review)# Replace @handle with the word USER_MENTION\n",
        "    review = re.sub(r'#(\\S+)', r' \\1 ', review)# Replaces #hashtag with hashtag\n",
        "    review = re.sub(r'\\brt\\b', '', review)# Remove RR (rereview)\n",
        "    review = re.sub(r'\\.{2,}', ' ', review) # Replace 2+ dots with space\n",
        "    review = review.strip(' \"\\'') # Strip space, \" and ' from review\n",
        "    review = handle_emojis(review)# Replace emojis with either EMO_POS or EMO_NEG\n",
        "    review = re.sub(r'\\s+', ' ', review)# Replace multiple spaces with a single space\n",
        "    words = review.split()\n",
        "\n",
        "    for word in words:\n",
        "        word = preprocess_word(word)\n",
        "        if is_valid_word(word):\n",
        "            if use_stemmer:\n",
        "                word = str(porter_stemmer.stem(word))\n",
        "            processed_review.append(word)\n",
        "\n",
        "    return ' '.join(processed_review)\n",
        "\n",
        "if __name__ == '__main__':\n",
        "    use_stemmer = False\n",
        "    if use_stemmer:\n",
        "        porter_stemmer = PorterStemmer() # use Porter Stemmer\n",
        "    train_data_df['reviews'] = train_data_df['reviews'].apply(lambda x: preprocess_review(x))"
      ],
      "execution_count": 19,
      "outputs": []
    },
    {
      "cell_type": "code",
      "metadata": {
        "id": "eJzcoJdCe3_d"
      },
      "source": [
        "# Import Drive API and authenticate.\n",
        "#from google.colab import drive\n",
        "\n",
        "# Mount your Drive to the Colab VM.\n",
        "#drive.mount('/content/drive')\n",
        "\n",
        "# Write the DataFrame to CSV file.\n",
        "#with open('/gdrive/My Drive/Colab\\ Notebooks/train_data_cleaned.csv', 'w') as f:\n",
        "# train_data_df.to_csv(f)\n",
        "# train_data_df.to_csv('/content/drive/My\\ Drive/Colab\\ Notebooks/train_data_cleaned.csv')\n",
        "#train_data_df.to_csv ('train_data_cleaned.csv', index = False, header=True)"
      ],
      "execution_count": 20,
      "outputs": []
    },
    {
      "cell_type": "code",
      "metadata": {
        "colab": {
          "base_uri": "https://localhost:8080/",
          "height": 34
        },
        "id": "9Yz1tLnNvaFF",
        "outputId": "df349e94-41a9-46ae-ca6f-107a07a69ca5"
      },
      "source": [
        "# Write the DataFrame to CSV file.\n",
        "#train_data_df.to_csv('/content/drive/My\\ Drive/train_data_cleaned.csv')\n",
        "from google.colab import files\n",
        "train_data_df.to_csv('train_data_cleaned.csv') \n",
        "files.download('train_data_cleaned.csv')"
      ],
      "execution_count": 21,
      "outputs": [
        {
          "output_type": "display_data",
          "data": {
            "application/javascript": [
              "\n",
              "    async function download(id, filename, size) {\n",
              "      if (!google.colab.kernel.accessAllowed) {\n",
              "        return;\n",
              "      }\n",
              "      const div = document.createElement('div');\n",
              "      const label = document.createElement('label');\n",
              "      label.textContent = `Downloading \"${filename}\": `;\n",
              "      div.appendChild(label);\n",
              "      const progress = document.createElement('progress');\n",
              "      progress.max = size;\n",
              "      div.appendChild(progress);\n",
              "      document.body.appendChild(div);\n",
              "\n",
              "      const buffers = [];\n",
              "      let downloaded = 0;\n",
              "\n",
              "      const channel = await google.colab.kernel.comms.open(id);\n",
              "      // Send a message to notify the kernel that we're ready.\n",
              "      channel.send({})\n",
              "\n",
              "      for await (const message of channel.messages) {\n",
              "        // Send a message to notify the kernel that we're ready.\n",
              "        channel.send({})\n",
              "        if (message.buffers) {\n",
              "          for (const buffer of message.buffers) {\n",
              "            buffers.push(buffer);\n",
              "            downloaded += buffer.byteLength;\n",
              "            progress.value = downloaded;\n",
              "          }\n",
              "        }\n",
              "      }\n",
              "      const blob = new Blob(buffers, {type: 'application/binary'});\n",
              "      const a = document.createElement('a');\n",
              "      a.href = window.URL.createObjectURL(blob);\n",
              "      a.download = filename;\n",
              "      div.appendChild(a);\n",
              "      a.click();\n",
              "      div.remove();\n",
              "    }\n",
              "  "
            ],
            "text/plain": [
              "<IPython.core.display.Javascript object>"
            ]
          },
          "metadata": {
            "tags": []
          }
        },
        {
          "output_type": "display_data",
          "data": {
            "application/javascript": [
              "download(\"download_1299889a-600d-4af7-8f6a-0b167397e1e1\", \"train_data_cleaned.csv\", 1691165174)"
            ],
            "text/plain": [
              "<IPython.core.display.Javascript object>"
            ]
          },
          "metadata": {
            "tags": []
          }
        }
      ]
    },
    {
      "cell_type": "code",
      "metadata": {
        "colab": {
          "base_uri": "https://localhost:8080/"
        },
        "id": "c7hzW4XgkZMI",
        "outputId": "4f553974-2139-419b-d528-0b52edd629fa"
      },
      "source": [
        "train_data_df['reviews'].head()\n",
        "gc.collect()"
      ],
      "execution_count": 22,
      "outputs": [
        {
          "output_type": "execute_result",
          "data": {
            "text/plain": [
              "150"
            ]
          },
          "metadata": {
            "tags": []
          },
          "execution_count": 22
        }
      ]
    },
    {
      "cell_type": "code",
      "metadata": {
        "id": "MZRPColofUhH"
      },
      "source": [
        "gc.collect()\n",
        "train_data_df = pd.read_csv('train_data_cleaned.csv') "
      ],
      "execution_count": 23,
      "outputs": []
    },
    {
      "cell_type": "code",
      "metadata": {
        "id": "OZrfq7Il7akn",
        "colab": {
          "base_uri": "https://localhost:8080/"
        },
        "outputId": "e043aa1c-55c9-4f36-90e9-d5ffd3ab90c0"
      },
      "source": [
        "type(train_data_df['reviews'])"
      ],
      "execution_count": 24,
      "outputs": [
        {
          "output_type": "execute_result",
          "data": {
            "text/plain": [
              "pandas.core.series.Series"
            ]
          },
          "metadata": {
            "tags": []
          },
          "execution_count": 24
        }
      ]
    },
    {
      "cell_type": "code",
      "metadata": {
        "id": "gFKsvDydNVhd"
      },
      "source": [
        "import nltk\n",
        "from nltk import pos_tag\n",
        "from nltk import sent_tokenize, word_tokenize\n",
        "from nltk.stem import WordNetLemmatizer\n",
        "from string import punctuation"
      ],
      "execution_count": 29,
      "outputs": []
    },
    {
      "cell_type": "code",
      "metadata": {
        "colab": {
          "base_uri": "https://localhost:8080/"
        },
        "id": "fED6RA5VNdOQ",
        "outputId": "66ba3c4b-1e54-4284-e067-ed6ca31368ac"
      },
      "source": [
        "nltk.download('averaged_perceptron_tagger')\n",
        "\n",
        "lemmatizer = WordNetLemmatizer()"
      ],
      "execution_count": 30,
      "outputs": [
        {
          "output_type": "stream",
          "text": [
            "[nltk_data] Downloading package averaged_perceptron_tagger to\n",
            "[nltk_data]     /root/nltk_data...\n",
            "[nltk_data]   Unzipping taggers/averaged_perceptron_tagger.zip.\n"
          ],
          "name": "stdout"
        }
      ]
    },
    {
      "cell_type": "code",
      "metadata": {
        "id": "Mc5tYom1NjtR"
      },
      "source": [
        "def penn2morphy(penntag):\n",
        "    \"\"\" Converts Penn Treebank tags to WordNet. \"\"\"\n",
        "    morphy_tag = {'NN':'n', 'JJ':'a',\n",
        "                  'VB':'v', 'RB':'r'}\n",
        "    try:\n",
        "        return morphy_tag[penntag[:2]]\n",
        "    except:\n",
        "        return 'n' \n",
        "        \n",
        "def lemmatize_sent(text): \n",
        "    # Text input is string, returns lowercased strings.\n",
        "    return [lemmatizer.lemmatize(word.lower(), pos=penn2morphy(tag)) \n",
        "            for word, tag in pos_tag(word_tokenize(text))]"
      ],
      "execution_count": 33,
      "outputs": []
    },
    {
      "cell_type": "code",
      "metadata": {
        "colab": {
          "base_uri": "https://localhost:8080/"
        },
        "id": "2R7wa6-UOIA3",
        "outputId": "b0a3f393-bc8d-4d57-852c-4bf798874115"
      },
      "source": [
        "import nltk\n",
        "nltk.download('stopwords')\n",
        "nltk.download('punkt')\n",
        "nltk.download('wordnet')\n",
        "\n",
        "stopwords_nltk_en = set(stopwords.words('english'))\n",
        "\n",
        "def preprocess_text(text):\n",
        "    # Input: str, i.e. document/sentence\n",
        "    # Output: list(str) , i.e. list of lemmas\n",
        "    return [word for word in lemmatize_sent(text) \n",
        "            if word not in stopwords_nltk_en\n",
        "            and not word.isdigit()]"
      ],
      "execution_count": 40,
      "outputs": [
        {
          "output_type": "stream",
          "text": [
            "[nltk_data] Downloading package stopwords to /root/nltk_data...\n",
            "[nltk_data]   Package stopwords is already up-to-date!\n",
            "[nltk_data] Downloading package punkt to /root/nltk_data...\n",
            "[nltk_data]   Package punkt is already up-to-date!\n",
            "[nltk_data] Downloading package wordnet to /root/nltk_data...\n",
            "[nltk_data]   Package wordnet is already up-to-date!\n"
          ],
          "name": "stdout"
        }
      ]
    },
    {
      "cell_type": "markdown",
      "metadata": {
        "id": "Ug9pOC1uM2zu"
      },
      "source": [
        "## Word Embeddings"
      ]
    },
    {
      "cell_type": "code",
      "metadata": {
        "id": "Fx5JeDrVIYfA"
      },
      "source": [
        "from sklearn.feature_extraction.text import CountVectorizer\n",
        "\n",
        "count_vect = CountVectorizer(analyzer=preprocess_text)"
      ],
      "execution_count": 41,
      "outputs": []
    },
    {
      "cell_type": "code",
      "metadata": {
        "id": "gP_paAHxOgup"
      },
      "source": [
        "train_set = count_vect.fit_transform(train_data_df['reviews'][:10000])"
      ],
      "execution_count": 42,
      "outputs": []
    },
    {
      "cell_type": "code",
      "metadata": {
        "colab": {
          "base_uri": "https://localhost:8080/"
        },
        "id": "jjl9fxLpO7hn",
        "outputId": "5f04fab1-a388-44f5-f919-11a6bfe4358c"
      },
      "source": [
        "train_set.toarray().shape"
      ],
      "execution_count": 43,
      "outputs": [
        {
          "output_type": "execute_result",
          "data": {
            "text/plain": [
              "(10000, 30813)"
            ]
          },
          "metadata": {
            "tags": []
          },
          "execution_count": 43
        }
      ]
    },
    {
      "cell_type": "code",
      "metadata": {
        "id": "8KLnHcy7PqdB"
      },
      "source": [
        "test_set = count_vect.transform(train_data_df['reviews'][:1000])"
      ],
      "execution_count": 48,
      "outputs": []
    },
    {
      "cell_type": "code",
      "metadata": {
        "colab": {
          "base_uri": "https://localhost:8080/",
          "height": 358
        },
        "id": "aua1_1JSQA_j",
        "outputId": "a2989bf3-01c8-461b-f298-2036f084f606"
      },
      "source": [
        "most_freq_words = pd.DataFrame(count_vect.vocabulary_.items(), columns=['word', 'frequency'])[:100].sort_values(ascending=False, by = \"frequency\")[:20]\n",
        "most_freq_words.plot.bar(x=\"word\", y=\"frequency\", rot=70, title=\"Most Frequent Words\")"
      ],
      "execution_count": 45,
      "outputs": [
        {
          "output_type": "execute_result",
          "data": {
            "text/plain": [
              "<matplotlib.axes._subplots.AxesSubplot at 0x7fb4e4152710>"
            ]
          },
          "metadata": {
            "tags": []
          },
          "execution_count": 45
        },
        {
          "output_type": "display_data",
          "data": {
            "image/png": "[encoded data removed]",
            "text/plain": [
              "<Figure size 432x288 with 1 Axes>"
            ]
          },
          "metadata": {
            "tags": [],
            "needs_background": "light"
          }
        }
      ]
    },
    {
      "cell_type": "code",
      "metadata": {
        "id": "MfOMYUb3IYy5",
        "colab": {
          "base_uri": "https://localhost:8080/"
        },
        "outputId": "6daa30b1-3b17-486b-e8db-9af514d6a941"
      },
      "source": [
        "from sklearn.naive_bayes import MultinomialNB\n",
        "clf = MultinomialNB(alpha=1.0, class_prior=None, fit_prior=True)\n",
        "clf.fit(train_set, train_data_df['labels'][:10000])"
      ],
      "execution_count": 46,
      "outputs": [
        {
          "output_type": "execute_result",
          "data": {
            "text/plain": [
              "MultinomialNB(alpha=1.0, class_prior=None, fit_prior=True)"
            ]
          },
          "metadata": {
            "tags": []
          },
          "execution_count": 46
        }
      ]
    },
    {
      "cell_type": "code",
      "metadata": {
        "id": "Xbj0HTXuIY3R",
        "colab": {
          "base_uri": "https://localhost:8080/"
        },
        "outputId": "3ea95a4d-61b2-4fa6-b25b-6b7c9d2b5e30"
      },
      "source": [
        "from sklearn.metrics import accuracy_score, confusion_matrix, classification_report\n",
        "\n",
        "# To predict our tags, we feed the vectorized `test_set` to .predict()\n",
        "predictions_valid = clf.predict(test_set)\n",
        "\n",
        "print('Amazon Sentiment Analysis Accuracy = {}'.format(accuracy_score(predictions_valid, train_data_df['labels'][:1000]) * 100))\n",
        "print(\"Confusion Matrix: \")\n",
        "print(confusion_matrix(predictions_valid, train_data_df['labels'][:1000]))\n",
        "print(\"Classification report: \")\n",
        "print(classification_report(predictions_valid, train_data_df['labels'][:1000], target_names=['negative','positive']))"
      ],
      "execution_count": 56,
      "outputs": [
        {
          "output_type": "stream",
          "text": [
            "Amazon Sentiment Analysis Accuracy = 93.30000000000001\n",
            "Confusion Matrix: \n",
            "[[510  39]\n",
            " [ 28 423]]\n",
            "Classification report: \n",
            "              precision    recall  f1-score   support\n",
            "\n",
            "    negative       0.95      0.93      0.94       549\n",
            "    positive       0.92      0.94      0.93       451\n",
            "\n",
            "    accuracy                           0.93      1000\n",
            "   macro avg       0.93      0.93      0.93      1000\n",
            "weighted avg       0.93      0.93      0.93      1000\n",
            "\n"
          ],
          "name": "stdout"
        }
      ]
    },
    {
      "cell_type": "code",
      "metadata": {
        "colab": {
          "base_uri": "https://localhost:8080/"
        },
        "id": "6Smt3QVSVIAX",
        "outputId": "363bc75c-7349-4e83-dd3d-197d7a669ce8"
      },
      "source": [
        "from sklearn import svm\n",
        "from sklearn.model_selection import GridSearchCV\n",
        "\n",
        "parameters = {'kernel':('linear', 'rbf'), 'C':[0.01, 0.1, 1, 10, 100]}\n",
        "svc = svm.SVC()\n",
        "clf2 = GridSearchCV(svc, parameters)\n",
        "clf2.fit(train_set, train_data_df['labels'][:10000])\n",
        "sorted(clf2.cv_results_.keys())"
      ],
      "execution_count": 61,
      "outputs": [
        {
          "output_type": "execute_result",
          "data": {
            "text/plain": [
              "['mean_fit_time',\n",
              " 'mean_score_time',\n",
              " 'mean_test_score',\n",
              " 'param_C',\n",
              " 'param_kernel',\n",
              " 'params',\n",
              " 'rank_test_score',\n",
              " 'split0_test_score',\n",
              " 'split1_test_score',\n",
              " 'split2_test_score',\n",
              " 'split3_test_score',\n",
              " 'split4_test_score',\n",
              " 'std_fit_time',\n",
              " 'std_score_time',\n",
              " 'std_test_score']"
            ]
          },
          "metadata": {
            "tags": []
          },
          "execution_count": 61
        }
      ]
    },
    {
      "cell_type": "code",
      "metadata": {
        "colab": {
          "base_uri": "https://localhost:8080/"
        },
        "id": "bGuk7mlTWpN6",
        "outputId": "8c0e3494-0bdc-4598-8c94-479c9c452a6d"
      },
      "source": [
        "# To predict our tags, we feed the vectorized `test_set` to .predict()\n",
        "predictions_valid2 = clf2.predict(test_set)\n",
        "\n",
        "print('Amazon Sentiment Analysis Accuracy on SVM = {}'.format(accuracy_score(predictions_valid2, train_data_df['labels'][:1000]) * 100))\n",
        "print(\"Confusion Matrix: \")\n",
        "print(confusion_matrix(predictions_valid2, train_data_df['labels'][:1000]))\n",
        "print(\"Classification report: \")\n",
        "print(classification_report(predictions_valid2, train_data_df['labels'][:1000], target_names=['negative','positive']))"
      ],
      "execution_count": 62,
      "outputs": [
        {
          "output_type": "stream",
          "text": [
            "Amazon Sentiment Analysis Accuracy on SVM = 91.0\n",
            "Confusion Matrix: \n",
            "[[484  36]\n",
            " [ 54 426]]\n",
            "Classification report: \n",
            "              precision    recall  f1-score   support\n",
            "\n",
            "    negative       0.90      0.93      0.91       520\n",
            "    positive       0.92      0.89      0.90       480\n",
            "\n",
            "    accuracy                           0.91      1000\n",
            "   macro avg       0.91      0.91      0.91      1000\n",
            "weighted avg       0.91      0.91      0.91      1000\n",
            "\n"
          ],
          "name": "stdout"
        }
      ]
    }
  ]
}